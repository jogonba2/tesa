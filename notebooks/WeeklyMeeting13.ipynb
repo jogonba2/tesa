{
 "cells": [
  {
   "cell_type": "markdown",
   "metadata": {},
   "source": [
    "# New ideas for the project"
   ]
  },
  {
   "cell_type": "markdown",
   "metadata": {},
   "source": [
    "where we are?\n",
    "\n",
    "<img src=\"whereweare.png\">"
   ]
  },
  {
   "cell_type": "markdown",
   "metadata": {},
   "source": [
    "## Summarization\n",
    "\n",
    "\n",
    "<img src=\"fullview.jpg\">"
   ]
  },
  {
   "cell_type": "markdown",
   "metadata": {},
   "source": [
    "### Manual annotation"
   ]
  },
  {
   "cell_type": "markdown",
   "metadata": {},
   "source": [
    "https://catalog.ldc.upenn.edu/docs/LDC2008T19/new_york_times_annotated_corpus.pdf"
   ]
  },
  {
   "cell_type": "markdown",
   "metadata": {},
   "source": [
    "Following the Jackie's idea from the previous meeting: to build a corpus for summarization by asking for sentence completion given the aggregation of the entities, I've thought about two different summarization tasks:\n",
    "\n",
    "* **Context summarization**: summarization of spans (contexts) that mention entities together.\n",
    "\n",
    "> **Context**: <span style=\"color:purple\">Street Violence by Paris Youths Intrudes Again into French Politics:</span><span style=\"color:blue\"> The Socialist candidate, <span style=\"color:red\">Segolene Royal</span>, who is running second in the opinion polls, said the incident showed that <span style=\"color:red\">Mr. Sarkozy</span> had failed as interior minister. '' In five years with a right-wing government that has made crime its main campaign issue, you can see that it is a failure all the way,'' she said on Canal+ television. <span style=\"color:red\">Francois Bayrou</span>, a centrist presidential candidate, also took aim at <span style=\"color:red\">Mr. Sarkozy</span>, saying,'' It is very important to end this climate of perpetual confrontation between police and some citizens.''</span>\n",
    "<br><br>**Summary**: The <span style=\"color:orange\">[french politicians | politicians | french presidential candidates]</span> <span style=\"color:green\">have been involved in a dialectical confrontation.</span>\n",
    "\n",
    "> **Context**: <span style=\"color:purple\">Battleground For Consoles Moves Online:</span><span style=\"color:blue\"> Over all, though, it is <span style=\"color:red\">Microsoft</span> that has had the steeper mountain to climb. In the last generation of video game consoles, <span style=\"color:red\">Sony</span> had a roughly 60 percent market share, compared to 20 percent for each Microsoft and Nintendo.</span>\n",
    "  <br><br>**Summary**: The <span style=\"color:orange\">[technology companies | multinational corporations]</span><span style=\"color:green\"> compete for the market share of the new generation of consoles.</span> \n",
    "  \n",
    "* **Document summarization**: summarization of full articles. As some of the summaries of the NYT corpus mention entities together, they can be rewritten in terms of the aggregations.\n",
    "\n",
    "> **Document**: <span style=\"color:purple\">Street Violence by Paris Youths Intrudes Again into French Politics:</span><span style=\"color:blue\"> [...] The Socialist candidate, <span style=\"color:red\">Segolene Royal</span>, who is running second in the opinion polls, said the incident showed that <span style=\"color:red\">Mr. Sarkozy</span> had failed as interior minister. '' In five years with a right-wing government that has made crime its main campaign issue, you can see that it is a failure all the way,'' she said on Canal+ television. <span style=\"color:red\">Francois Bayrou</span>, a centrist presidential candidate, also took aim at <span style=\"color:red\">Mr. Sarkozy</span>, saying,'' It is very important to end this climate of perpetual confrontation between police and some citizens.'' [...]</span>\n",
    "<br><br>**Original summary (context)**: <span style=\"color:red\">Francois Bayrou, Segolene Royal and Nicolas Sarkozy</span><span style=\"color:green\"> seized on a new campaign issue on Wednesday after the police fought gangs of youths for seven hours at a railroad station here. Stores were destroyed, the pall of tear gas filled the station, Gare du Nord, and 13 people were arrested.</span>\n",
    "<br><br>**Semantic summary**: The <span style=\"color:orange\">[french presidential candidates | politicians | french politicians]</span> <span style=\"color:green\">seized on a new campaign issue on Wednesday after the police fought gangs of youths for seven hours at a railroad station here. Stores were destroyed, the pall of tear gas filled the station, Gare du Nord, and 13 people were arrested.</span>\n",
    "\n",
    "\n",
    "Both of them can be annotated in the same way, asking for summarizing short spans of sentences that contain the entities. The only difference is that for \"Semantic context summarization\" all the spans that mention entities together can be used (both from the articles and summaries) but for \"Semantic document summarization\" only the summaries that mention entities can be used (we can only be sure that a semantic aggregation of entities is relevant for a summary of the full article if these entities appear in the summary).\n",
    "\n",
    "**How can we evaluate the semantic abstractiveness of the summaries? Some metric on the aggregation span?**\n",
    "\n",
    "<img src=\"form.jpg\">"
   ]
  },
  {
   "cell_type": "code",
   "execution_count": null,
   "metadata": {},
   "outputs": [],
   "source": []
  }
 ],
 "metadata": {
  "kernelspec": {
   "display_name": "Python 3",
   "language": "python",
   "name": "python3"
  },
  "language_info": {
   "codemirror_mode": {
    "name": "ipython",
    "version": 3
   },
   "file_extension": ".py",
   "mimetype": "text/x-python",
   "name": "python",
   "nbconvert_exporter": "python",
   "pygments_lexer": "ipython3",
   "version": "3.7.6"
  }
 },
 "nbformat": 4,
 "nbformat_minor": 4
}
